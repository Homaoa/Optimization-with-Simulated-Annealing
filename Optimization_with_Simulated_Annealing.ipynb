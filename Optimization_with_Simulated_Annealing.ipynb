{
  "nbformat": 4,
  "nbformat_minor": 0,
  "metadata": {
    "colab": {
      "provenance": [],
      "collapsed_sections": [],
      "authorship_tag": "ABX9TyOSVzxpuC52bVnUl4uS4gIR",
      "include_colab_link": true
    },
    "kernelspec": {
      "name": "python3",
      "display_name": "Python 3"
    },
    "language_info": {
      "name": "python"
    }
  },
  "cells": [
    {
      "cell_type": "markdown",
      "metadata": {
        "id": "view-in-github",
        "colab_type": "text"
      },
      "source": [
        "<a href=\"https://colab.research.google.com/github/Homaoa/Optimization-with-Simulated-Annealing/blob/main/Optimization_with_Simulated_Annealing.ipynb\" target=\"_parent\"><img src=\"https://colab.research.google.com/assets/colab-badge.svg\" alt=\"Open In Colab\"/></a>"
      ]
    },
    {
      "cell_type": "markdown",
      "source": [
        "Model :\n",
        "\n",
        "\n",
        "    Max 10x1 + 9x2\n",
        "\n",
        "St:\n",
        "\n",
        "    6x1 + 5x2 <= 60\n",
        "    10x1 + 20x2 <= 150\n",
        "    x1 , x2 >= 0\n",
        "    x1 <= 8\n",
        "\n",
        "\n",
        "therefore : 0 <= x1<= 8   ,   0 <= x2<= 7.5\n"
      ],
      "metadata": {
        "id": "vzOcj90vqsd0"
      }
    },
    {
      "cell_type": "code",
      "execution_count": 90,
      "metadata": {
        "id": "Gsmgw4ywvEy4"
      },
      "outputs": [],
      "source": [
        "import math\n",
        "import random\n",
        "import pandas as pd\n",
        "import numpy as np\n",
        "import matplotlib as plt"
      ]
    },
    {
      "cell_type": "code",
      "source": [
        "# Model (Penalty method is used for constraints)\n",
        "def cal_energy(X,nVar,mk):\n",
        "\n",
        "  fx = -(10*X[0] + 9*X[1])\n",
        "\n",
        "  p1 = (max(0 , 6*X[0] + 5*X[1] -60))**2\n",
        "  p2 = (max(0 , 10*X[0] + 20*X[1] -150))**2\n",
        "  return fx + mk*(p1 + p2)"
      ],
      "metadata": {
        "id": "RHfyTCi_hAhn"
      },
      "execution_count": 91,
      "outputs": []
    },
    {
      "cell_type": "code",
      "source": [
        "# Parameter setting of simulated annealing algorithm\n",
        "nVar = 2\n",
        "xMin = [0,0]\n",
        "xMax = [8,7.5]\n",
        "tInitial = 100\n",
        "tFinal = 1\n",
        "alpha = 0.98 \n",
        "iterations = 50\n",
        "scale = 0.5"
      ],
      "metadata": {
        "id": "n0EBpoR8kOJ5"
      },
      "execution_count": 92,
      "outputs": []
    },
    {
      "cell_type": "code",
      "source": [
        "# The initial solution\n",
        "xInitial = np.zeros((nVar))\n",
        "\n",
        "for v in range(nVar):\n",
        "  xInitial[v] = random.uniform(xMin[v],xMax[v])"
      ],
      "metadata": {
        "id": "05Bub6MW4sTd"
      },
      "execution_count": 93,
      "outputs": []
    },
    {
      "cell_type": "code",
      "source": [
        "fxInitial = cal_energy(xInitial,nVar,1)"
      ],
      "metadata": {
        "id": "DyaVEULc6Sdw"
      },
      "execution_count": 94,
      "outputs": []
    },
    {
      "cell_type": "code",
      "source": [
        "xNew = np.zeros((nVar))\n",
        "xNow = np.zeros((nVar))\n",
        "xBest = np.zeros((nVar))\n",
        "\n",
        "xNow[:] = xInitial[:]\n",
        "xBest[:] = xInitial[:]\n",
        "\n",
        "fxNow = fxInitial\n",
        "fxBest = fxInitial\n",
        "\n",
        "print(fxBest)\n",
        "print(xBest)"
      ],
      "metadata": {
        "colab": {
          "base_uri": "https://localhost:8080/"
        },
        "id": "9VChyrAg7TQg",
        "outputId": "6ece7057-f7b5-413d-afbe-dc251092f49b"
      },
      "execution_count": 95,
      "outputs": [
        {
          "output_type": "stream",
          "name": "stdout",
          "text": [
            "-87.74373410229295\n",
            "[6.28630862 2.76451643]\n"
          ]
        }
      ]
    },
    {
      "cell_type": "code",
      "source": [
        "tNow = tInitial\n",
        "kIter = 0\n",
        "\n",
        "while tNow >= tFinal:\n",
        "  for k in range(iterations):\n",
        "    xNew[:] = xNow[:]\n",
        "    v = random.randint(0,nVar-1)\n",
        "    xNew[v] = xNow[v] + scale * (xMax[v]-xMin[v]) * random.normalvariate(0, 1)\n",
        "    xNew[v] = max(min(xNew[v],xMax[v]),xMin[v])  #in order to be sure that the new value for this chosen variable doesn't go outside of its bound\n",
        "    \n",
        "    fxNew = cal_energy(xNew,nVar,kIter)\n",
        "    deltaE = fxNew - fxNow\n",
        "\n",
        "    if fxNew < fxNow:\n",
        "      accept = True\n",
        "    elif (math.exp(-deltaE/tNow)) > random.random():\n",
        "      accept = True\n",
        "    else:\n",
        "      accept = False\n",
        "\n",
        "    if accept == True:\n",
        "       xNow[:] = xNew[:]\n",
        "       fxNow = fxNew\n",
        "    \n",
        "    if fxNew < fxBest:\n",
        "      fxBest = fxNew\n",
        "      xBest[:] = xNew[:]\n",
        "\n",
        "  fxBest = cal_energy(xBest, nVar, kIter)\n",
        "  scale = scale * 0.99 # variable search step size\n",
        "  tNow = tNow * alpha\n",
        "  kIter = kIter + 1\n",
        "\n",
        "print(xBest)\n",
        "print(fxBest) \n"
      ],
      "metadata": {
        "colab": {
          "base_uri": "https://localhost:8080/"
        },
        "id": "tG8vnTewAYhA",
        "outputId": "6b906f53-a34b-4a17-a7dc-16f7b0b39bde"
      },
      "execution_count": 96,
      "outputs": [
        {
          "output_type": "stream",
          "name": "stdout",
          "text": [
            "[6.45762402 4.24501389]\n",
            "-102.78136519456233\n"
          ]
        }
      ]
    }
  ]
}